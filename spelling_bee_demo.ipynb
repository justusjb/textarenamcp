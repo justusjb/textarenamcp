{
 "cells": [
  {
   "cell_type": "markdown",
   "metadata": {},
   "source": [
    "# SpellingBee Agent Demo\n",
    "\n",
    "This notebook demonstrates how to use different SpellingBee agents with the TextArena framework."
   ]
  },
  {
   "cell_type": "markdown",
   "metadata": {},
   "source": [
    "## Available Agents\n",
    "\n",
    "First, let's see what agents are available:"
   ]
  },
  {
   "cell_type": "code",
   "execution_count": 1,
   "metadata": {},
   "outputs": [
    {
     "name": "stderr",
     "output_type": "stream",
     "text": [
      "[nltk_data] Downloading package words to /Users/justus/nltk_data...\n",
      "[nltk_data]   Package words is already up-to-date!\n",
      "2025-03-08 15:16:53,275 - mcp_server - INFO - Loaded 234377 English words\n",
      "2025-03-08 15:16:53,275 - mcp_server - INFO - Loaded 234377 English words\n",
      "2025-03-08 15:16:53,288 - mcp.server.lowlevel.server - DEBUG - Initializing server 'SpellingBee Word Finder'\n",
      "2025-03-08 15:16:53,289 - mcp.server.lowlevel.server - DEBUG - Registering handler for ListToolsRequest\n",
      "2025-03-08 15:16:53,290 - mcp.server.lowlevel.server - DEBUG - Registering handler for CallToolRequest\n",
      "2025-03-08 15:16:53,290 - mcp.server.lowlevel.server - DEBUG - Registering handler for ListResourcesRequest\n",
      "2025-03-08 15:16:53,290 - mcp.server.lowlevel.server - DEBUG - Registering handler for ReadResourceRequest\n",
      "2025-03-08 15:16:53,290 - mcp.server.lowlevel.server - DEBUG - Registering handler for PromptListRequest\n",
      "2025-03-08 15:16:53,291 - mcp.server.lowlevel.server - DEBUG - Registering handler for GetPromptRequest\n",
      "2025-03-08 15:16:53,291 - mcp.server.lowlevel.server - DEBUG - Registering handler for ListResourceTemplatesRequest\n"
     ]
    },
    {
     "name": "stdout",
     "output_type": "stream",
     "text": [
      "Available agents:\n",
      "- claude-3.7-sonnet\n",
      "- nova-lite\n",
      "- claude-3.5-haiku\n",
      "- claude-3.7-sonnet-mcp\n",
      "- nova-lite-mcp\n",
      "- claude-3.5-haiku-mcp\n"
     ]
    }
   ],
   "source": [
    "import sys\n",
    "import os\n",
    "\n",
    "# Add the parent directory to sys.path to allow imports\n",
    "sys.path.append(os.path.dirname(os.path.abspath(\".\")))\n",
    "\n",
    "# Import from the agents package\n",
    "from spelling_bee_agent.agents.specific_agents import list_agents\n",
    "\n",
    "print(\"Available agents:\")\n",
    "for agent_id in list_agents():\n",
    "    print(f\"- {agent_id}\")"
   ]
  },
  {
   "cell_type": "markdown",
   "metadata": {},
   "source": [
    "## Running an Offline Game\n",
    "\n",
    "Let's run an offline game between two agents:"
   ]
  },
  {
   "cell_type": "code",
   "execution_count": null,
   "metadata": {},
   "outputs": [],
   "source": [
    "from offline_runner import run_offline_game\n",
    "\n",
    "# Run a game between regular Claude and MCP-enhanced Claude\n",
    "rewards = run_offline_game(\n",
    "    agent_id_1='claude-3.5-haiku-mcp',  # MCP-enhanced Claude\n",
    "    agent_id_2='claude-3.7-sonnet'       # Nova lite\n",
    ")\n",
    "\n",
    "print(\"\\nFinal rewards:\")\n",
    "print(f\"Player 0 (MCP-enhanced): {rewards[0]}\")\n",
    "print(f\"Player 1 (Regular): {rewards[1]}\")"
   ]
  },
  {
   "cell_type": "markdown",
   "metadata": {},
   "source": [
    "## Running an Online Game\n",
    "\n",
    "To submit an agent to the online competition:"
   ]
  },
  {
   "cell_type": "code",
   "execution_count": null,
   "metadata": {},
   "outputs": [],
   "source": [
    "from online_runner import run_online_game\n",
    "\n",
    "# Submit the MCP-enhanced Claude agent to the online competition\n",
    "rewards = run_online_game(\n",
    "    agent_id='claude-3.7-sonnet-mcp',\n",
    "    email=\"j.beck@startmunich.de\"\n",
    ")\n",
    "\n",
    "print(\"\\nFinal rewards:\")\n",
    "print(f\"Your agent: {rewards[0]}\")"
   ]
  },
  {
   "cell_type": "markdown",
   "metadata": {},
   "source": [
    "## Comparing Agent Performance\n",
    "\n",
    "Let's run multiple games to compare the performance of different agents:"
   ]
  },
  {
   "cell_type": "code",
   "execution_count": null,
   "metadata": {},
   "outputs": [],
   "source": [
    "import pandas as pd\n",
    "\n",
    "# Run 3 games for each configuration\n",
    "results = []\n",
    "\n",
    "for i in range(3):\n",
    "    # Regular Claude vs Regular Claude\n",
    "    rewards = run_offline_game(\n",
    "        agent_id_1='claude-3.7-sonnet',\n",
    "        agent_id_2='claude-3.7-sonnet',\n",
    "        verbose=False\n",
    "    )\n",
    "    results.append({\n",
    "        'game': i+1,\n",
    "        'configuration': 'Regular vs Regular',\n",
    "        'player1_score': rewards[0],\n",
    "        'player2_score': rewards[1]\n",
    "    })\n",
    "    \n",
    "    # MCP-enhanced Claude vs Regular Claude\n",
    "    rewards = run_offline_game(\n",
    "        agent_id_1='claude-3.7-sonnet-mcp',\n",
    "        agent_id_2='claude-3.7-sonnet',\n",
    "        verbose=False\n",
    "    )\n",
    "    results.append({\n",
    "        'game': i+1,\n",
    "        'configuration': 'MCP-enhanced vs Regular',\n",
    "        'player1_score': rewards[0],\n",
    "        'player2_score': rewards[1]\n",
    "    })\n",
    "\n",
    "# Display results as a DataFrame\n",
    "df = pd.DataFrame(results)\n",
    "df"
   ]
  },
  {
   "cell_type": "markdown",
   "metadata": {},
   "source": [
    "## Summary Statistics"
   ]
  },
  {
   "cell_type": "code",
   "execution_count": null,
   "metadata": {},
   "outputs": [],
   "source": [
    "# Calculate average scores by configuration\n",
    "summary = df.groupby('configuration').agg({\n",
    "    'player1_score': 'mean',\n",
    "    'player2_score': 'mean'\n",
    "}).reset_index()\n",
    "\n",
    "summary.columns = ['Configuration', 'Player 1 Avg Score', 'Player 2 Avg Score']\n",
    "summary"
   ]
  }
 ],
 "metadata": {
  "kernelspec": {
   "display_name": ".venv",
   "language": "python",
   "name": "python3"
  },
  "language_info": {
   "codemirror_mode": {
    "name": "ipython",
    "version": 3
   },
   "file_extension": ".py",
   "mimetype": "text/x-python",
   "name": "python",
   "nbconvert_exporter": "python",
   "pygments_lexer": "ipython3",
   "version": "3.12.7"
  }
 },
 "nbformat": 4,
 "nbformat_minor": 4
}
